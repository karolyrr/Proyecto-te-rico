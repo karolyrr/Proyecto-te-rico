{
 "cells": [
  {
   "cell_type": "code",
   "execution_count": 24,
   "metadata": {},
   "outputs": [],
   "source": [
    "from PIL import Image, ImageChops, ImageFilter\n",
    "import sys\n",
    "import matplotlib.pyplot as plt\n",
    "import numpy as np\n",
    "import random as rd"
   ]
  },
  {
   "cell_type": "code",
   "execution_count": 25,
   "metadata": {},
   "outputs": [],
   "source": [
    "def densidad_proba(q):\n",
    "\n",
    "    #Obtención matrices de color\n",
    "\n",
    "    img2 = plt.imread(q) #Lee la imágen en matrices de capas de colores\n",
    "\n",
    "    c = np.shape(img2)\n",
    "\n",
    "    g = list(img2[:,:,0]) #Capa verde\n",
    "    r = list(img2[:,:,1]) #Capa roja\n",
    "    b = list(img2[:,:,2]) #Capa azul\n",
    "\n",
    "    #Divide una matriz de color en matrices 2x2\n",
    "\n",
    "    lis = [] #Contiene números que conformarían matrices 2x2\n",
    "\n",
    "    a = g\n",
    "\n",
    "    for row in range(int(c[0])-1):\n",
    "\n",
    "        if row%2 == 0: #Evita sobrelapamiento\n",
    "\n",
    "            for column in range(int(c[1])-1):\n",
    "\n",
    "                if column%2 == 0: #Evita sobrelapamiento\n",
    "\n",
    "                    lista = [a[row][column],a[row][column+1],a[row+1][column],a[row+1][column+1]] #convierte en lista con info de matriz\n",
    "\n",
    "                    lis.append(lista)\n",
    "\n",
    "    #Cuenta con diccionarios\n",
    "\n",
    "    conteos={'{}'.format([0,1,2,3]):0,'{}'.format([0,3,2,1]):0,'{}'.format([0,2,1,3]):0,'{}'.format([0,1,3,2]):0,\n",
    "             '{}'.format([0,3,1,2]):0,'{}'.format([0,2,3,1]):0,'{}'.format([1,0,2,3]):0,'{}'.format([1,0,3,2]):0,\n",
    "             '{}'.format([1,2,0,3]):0,'{}'.format([1,2,3,0]):0,'{}'.format([1,3,0,2]):0,'{}'.format([1,3,2,0]):0,\n",
    "             '{}'.format([2,0,1,3]):0,'{}'.format([2,0,3,1]):0,'{}'.format([2,1,0,3]):0,'{}'.format([2,1,3,0]):0,\n",
    "             '{}'.format([2,3,1,0]):0,'{}'.format([2,3,0,1]):0,'{}'.format([3,0,1,2]):0,'{}'.format([3,0,2,1]):0,\n",
    "             '{}'.format([3,1,0,2]):0,'{}'.format([3,1,2,0]):0,'{}'.format([3,2,1,0]):0,'{}'.format([3,2,0,1]):0}\n",
    "\n",
    "    for i in range(len(lis)):\n",
    "\n",
    "        k = lis[i]\n",
    "\n",
    "        pos = list(np.argsort(k)) #Organiza índices\n",
    "\n",
    "        lis[i] = '{}'.format(pos)\n",
    "\n",
    "        conteos[lis[i]] += 1/len(lis)\n",
    "\n",
    "    conteo = list(conteos.values())\n",
    "    \n",
    "    probabilidad = conteo\n",
    "    \n",
    "    return probabilidad"
   ]
  },
  {
   "cell_type": "code",
   "execution_count": 26,
   "metadata": {},
   "outputs": [],
   "source": [
    "def complejidad(proba_fotos):\n",
    "    \n",
    "    proba_u = 1/24\n",
    "    \n",
    "    entro_u = 0\n",
    "    entro_f = 0\n",
    "    entro_c = 0\n",
    "    \n",
    "    for i in range(24):\n",
    "        \n",
    "        entro_u += proba_u*-1*np.log(proba_u)\n",
    "        entro_f += proba_fotos[i]*-1*np.log(proba_fotos[i])\n",
    "        entro_c += (proba_fotos[i]+proba_u)/2*-1*np.log((proba_fotos[i]+proba_u)/2)\n",
    "    \n",
    "    entro_norm = entro_f/np.log(24)\n",
    "    \n",
    "    D = -1/2*( (25/24)*np.log(25) + np.log(24) - 2*np.log(48) )\n",
    "    \n",
    "    complejidad = (entro_c - 1/2 * entro_f - 1/2 * entro_u)*entro_norm/D\n",
    "    \n",
    "    return [entro_c, complejidad, entro_norm]\n",
    "\n",
    "    \n",
    "        "
   ]
  },
  {
   "cell_type": "code",
   "execution_count": 27,
   "metadata": {},
   "outputs": [],
   "source": [
    "#Prueba de formato--------------------------------------------------------------------------------------------------------------\n",
    "\n",
    "jpg = Image.open('Imágenes/Otros/descarga.jpg')\n",
    "\n",
    "jpg.save('descarga.png','png') \n",
    "jpg.save('descarga.jpeg','jpeg')\n",
    "\n",
    "jpg = Image.open('Imágenes/Otros/descarga2.jpg')\n",
    "\n",
    "jpg.save('descarga2.jpg','png') \n",
    "jpg.save('descarga2.jpeg','jpeg')\n",
    "jpg.save('descarga2.PNG','PNG')\n",
    "\n",
    "jpg = Image.open('Imágenes/Rostros/rostro.jpg')\n",
    "\n",
    "jpg.save('rostro.png','png') \n",
    "jpg.save('rostro.jpeg','jpeg')\n",
    "jpg.save('rostro.PNG','PNG')"
   ]
  },
  {
   "cell_type": "code",
   "execution_count": 28,
   "metadata": {},
   "outputs": [
    {
     "name": "stdout",
     "output_type": "stream",
     "text": [
      "Formato | Entropía combinada | Complejidad | Entropía\n",
      "png | [2.982644684268115, 0.19685770104222283, 0.7809439458740544]\n",
      "jpeg | [2.983412407990918, 0.1962806961830791, 0.7818155076401739]\n",
      "jpg | [2.982644684268115, 0.19685770104222283, 0.7809439458740544]\n"
     ]
    }
   ],
   "source": [
    "#### Para descarga---------------------------------------------------------------------------------------------------------\n",
    "\n",
    "proba_png = densidad_proba('descarga.png')\n",
    "complejidad_png = complejidad(proba_png)\n",
    "\n",
    "proba_jpeg = densidad_proba('descarga.jpeg')\n",
    "complejidad_jpeg = complejidad(proba_jpeg)\n",
    "\n",
    "proba_jpg = densidad_proba('Imágenes/Otros/descarga.jpg')\n",
    "complejidad_jpg = complejidad(proba_jpg)\n",
    "\n",
    "print( 'Formato |','Entropía combinada', '|', 'Complejidad', '|', 'Entropía')\n",
    "print( 'png |', complejidad_png)\n",
    "print( 'jpeg |', complejidad_jpeg)\n",
    "print( 'jpg |', complejidad_jpg)"
   ]
  },
  {
   "cell_type": "code",
   "execution_count": 29,
   "metadata": {},
   "outputs": [
    {
     "name": "stdout",
     "output_type": "stream",
     "text": [
      "Formato | Entropía combinada | Complejidad | Entropía\n",
      "png | [3.1764469269643527, 0.0025983521263477347, 0.9979963692603822]\n",
      "jpeg | [3.1767221804986336, 0.002129012626857923, 0.9983491314375225]\n",
      "jpg | [3.1764469269643527, 0.0025983521263477347, 0.9979963692603822]\n"
     ]
    }
   ],
   "source": [
    "#### Para descarga2---------------------------------------------------------------------------------------------------------\n",
    "\n",
    "proba_png = densidad_proba('descarga2.png')\n",
    "complejidad_png = complejidad(proba_png)\n",
    "\n",
    "proba_jpeg = densidad_proba('descarga2.jpeg')\n",
    "complejidad_jpeg = complejidad(proba_jpeg)\n",
    "\n",
    "proba_jpg = densidad_proba('Imágenes/Otros/descarga2.jpg')\n",
    "complejidad_jpg = complejidad(proba_jpg)\n",
    "\n",
    "print( 'Formato |','Entropía combinada', '|', 'Complejidad', '|', 'Entropía')\n",
    "print( 'png |', complejidad_png)\n",
    "print( 'jpeg |', complejidad_jpeg)\n",
    "print( 'jpg |', complejidad_jpg)"
   ]
  },
  {
   "cell_type": "code",
   "execution_count": 30,
   "metadata": {},
   "outputs": [
    {
     "name": "stdout",
     "output_type": "stream",
     "text": [
      "Formato | Entropía combinada | Complejidad | Entropía\n",
      "png | [3.023708552710898, 0.1878813646957412, 0.8149990026548135]\n",
      "jpeg | [3.039352319622973, 0.17737075831842034, 0.8313954920738649]\n",
      "jpg | [3.023708552710898, 0.1878813646957412, 0.8149990026548135]\n"
     ]
    }
   ],
   "source": [
    "#### Para rostro---------------------------------------------------------------------------------------------------------\n",
    "\n",
    "proba_png = densidad_proba('rostro.png')\n",
    "complejidad_png = complejidad(proba_png)\n",
    "\n",
    "proba_jpeg = densidad_proba('rostro.jpeg')\n",
    "complejidad_jpeg = complejidad(proba_jpeg)\n",
    "\n",
    "proba_jpg = densidad_proba('Imágenes/Rostros/rostro.jpg')\n",
    "complejidad_jpg = complejidad(proba_jpg)\n",
    "\n",
    "print( 'Formato |','Entropía combinada', '|', 'Complejidad', '|', 'Entropía')\n",
    "print( 'png |', complejidad_png)\n",
    "print( 'jpeg |', complejidad_jpeg)\n",
    "print( 'jpg |', complejidad_jpg)"
   ]
  },
  {
   "cell_type": "code",
   "execution_count": null,
   "metadata": {},
   "outputs": [],
   "source": []
  }
 ],
 "metadata": {
  "kernelspec": {
   "display_name": "Python 3",
   "language": "python",
   "name": "python3"
  },
  "language_info": {
   "codemirror_mode": {
    "name": "ipython",
    "version": 3
   },
   "file_extension": ".py",
   "mimetype": "text/x-python",
   "name": "python",
   "nbconvert_exporter": "python",
   "pygments_lexer": "ipython3",
   "version": "3.8.5"
  }
 },
 "nbformat": 4,
 "nbformat_minor": 4
}
