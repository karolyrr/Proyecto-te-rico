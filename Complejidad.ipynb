{
 "cells": [
  {
   "cell_type": "code",
   "execution_count": 1,
   "metadata": {},
   "outputs": [],
   "source": [
    "from PIL import Image, ImageChops, ImageFilter\n",
    "import sys\n",
    "import matplotlib.pyplot as plt\n",
    "import numpy as np\n",
    "import random as rd"
   ]
  },
  {
   "cell_type": "code",
   "execution_count": 2,
   "metadata": {},
   "outputs": [],
   "source": [
    "def densidad_proba(q):\n",
    "\n",
    "    #Obtención matrices de color\n",
    "\n",
    "    img2 = plt.imread(q) #Lee la imágen en matrices de capas de colores\n",
    "\n",
    "    c = np.shape(img2)\n",
    "\n",
    "    g = list(img2[:,:,0]) #Capa verde\n",
    "    r = list(img2[:,:,1]) #Capa roja\n",
    "    b = list(img2[:,:,2]) #Capa azul\n",
    "\n",
    "    #Divide una matriz de color en matrices 2x2\n",
    "\n",
    "    lis = [] #Contiene números que conformarían matrices 2x2\n",
    "\n",
    "    a = g\n",
    "\n",
    "    for row in range(int(c[0])-1):\n",
    "\n",
    "        if row%2 == 0: #Evita sobrelapamiento\n",
    "\n",
    "            for column in range(int(c[1])-1):\n",
    "\n",
    "                if column%2 == 0: #Evita sobrelapamiento\n",
    "\n",
    "                    lista = [a[row][column],a[row][column+1],a[row+1][column],a[row+1][column+1]] #convierte en lista con info de matriz\n",
    "\n",
    "                    lis.append(lista)\n",
    "\n",
    "    #Cuenta con diccionarios\n",
    "\n",
    "    conteos={'{}'.format([0,1,2,3]):0,'{}'.format([0,3,2,1]):0,'{}'.format([0,2,1,3]):0,'{}'.format([0,1,3,2]):0,\n",
    "             '{}'.format([0,3,1,2]):0,'{}'.format([0,2,3,1]):0,'{}'.format([1,0,2,3]):0,'{}'.format([1,0,3,2]):0,\n",
    "             '{}'.format([1,2,0,3]):0,'{}'.format([1,2,3,0]):0,'{}'.format([1,3,0,2]):0,'{}'.format([1,3,2,0]):0,\n",
    "             '{}'.format([2,0,1,3]):0,'{}'.format([2,0,3,1]):0,'{}'.format([2,1,0,3]):0,'{}'.format([2,1,3,0]):0,\n",
    "             '{}'.format([2,3,1,0]):0,'{}'.format([2,3,0,1]):0,'{}'.format([3,0,1,2]):0,'{}'.format([3,0,2,1]):0,\n",
    "             '{}'.format([3,1,0,2]):0,'{}'.format([3,1,2,0]):0,'{}'.format([3,2,1,0]):0,'{}'.format([3,2,0,1]):0}\n",
    "\n",
    "    for i in range(len(lis)):\n",
    "\n",
    "        k = lis[i]\n",
    "\n",
    "        pos = list(np.argsort(k)) #Organiza índices\n",
    "\n",
    "        lis[i] = '{}'.format(pos)\n",
    "\n",
    "        conteos[lis[i]] += 1/len(lis)\n",
    "\n",
    "    conteo = list(conteos.values())\n",
    "    \n",
    "    probabilidad = conteo\n",
    "    \n",
    "    return probabilidad"
   ]
  },
  {
   "cell_type": "code",
   "execution_count": 3,
   "metadata": {},
   "outputs": [],
   "source": [
    "def complejidad(proba_fotos):\n",
    "    \n",
    "    proba_u = 1/24\n",
    "    \n",
    "    entro_u = 0\n",
    "    entro_f = 0\n",
    "    entro_c = 0\n",
    "    \n",
    "    for i in range(24):\n",
    "        \n",
    "        entro_u += proba_u*-1*np.log(proba_u)\n",
    "        entro_f += proba_fotos[i]*-1*np.log(proba_fotos[i])\n",
    "        entro_c += (proba_fotos[i]+proba_u)/2*-1*np.log((proba_fotos[i]+proba_u)/2)\n",
    "    \n",
    "    entro_norm = entro_f/np.log(24)\n",
    "    \n",
    "    D = -1/2*( (25/24)*np.log(25) + np.log(24) - 2*np.log(48) )\n",
    "    \n",
    "    complejidad = (entro_c - 1/2 * entro_f - 1/2 * entro_u)*entro_norm/D\n",
    "    \n",
    "    return [entro_c, complejidad, entro_norm]"
   ]
  },
  {
   "cell_type": "code",
   "execution_count": null,
   "metadata": {},
   "outputs": [],
   "source": []
  }
 ],
 "metadata": {
  "kernelspec": {
   "display_name": "Python 3",
   "language": "python",
   "name": "python3"
  },
  "language_info": {
   "codemirror_mode": {
    "name": "ipython",
    "version": 3
   },
   "file_extension": ".py",
   "mimetype": "text/x-python",
   "name": "python",
   "nbconvert_exporter": "python",
   "pygments_lexer": "ipython3",
   "version": "3.8.5"
  }
 },
 "nbformat": 4,
 "nbformat_minor": 4
}
